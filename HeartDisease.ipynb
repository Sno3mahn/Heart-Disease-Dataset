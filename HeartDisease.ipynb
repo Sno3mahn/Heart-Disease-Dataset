{
  "nbformat": 4,
  "nbformat_minor": 0,
  "metadata": {
    "colab": {
      "name": "HeartDisease.ipynb",
      "provenance": [],
      "authorship_tag": "ABX9TyNkg5rh4gtx8E2esPrSpUAs",
      "include_colab_link": true
    },
    "kernelspec": {
      "name": "python3",
      "display_name": "Python 3"
    },
    "language_info": {
      "name": "python"
    }
  },
  "cells": [
    {
      "cell_type": "markdown",
      "metadata": {
        "id": "view-in-github",
        "colab_type": "text"
      },
      "source": [
        "<a href=\"https://colab.research.google.com/github/Sno3mahn/Heart-Disease-Dataset/blob/main/HeartDisease.ipynb\" target=\"_parent\"><img src=\"https://colab.research.google.com/assets/colab-badge.svg\" alt=\"Open In Colab\"/></a>"
      ]
    },
    {
      "cell_type": "code",
      "metadata": {
        "id": "avGXIrclnyuF"
      },
      "source": [
        "# This Python 3 environment comes with many helpful analytics libraries installed\n",
        "# It is defined by the kaggle/python Docker image: https://github.com/kaggle/docker-python\n",
        "# For example, here's several helpful packages to load\n",
        "\n",
        "import numpy as np # linear algebra\n",
        "import pandas as pd # data processing, CSV file I/O (e.g. pd.read_csv)\n",
        "\n",
        "# Input data files are available in the read-only \"../input/\" directory\n",
        "# For example, running this (by clicking run or pressing Shift+Enter) will list all files under the input directory\n",
        "\n",
        "import os\n",
        "for dirname, _, filenames in os.walk('/kaggle/input'):\n",
        "    for filename in filenames:\n",
        "        print(os.path.join(dirname, filename))\n",
        "\n",
        "# You can write up to 20GB to the current directory (/kaggle/working/) that gets preserved as output when you create a version using \"Save & Run All\" \n",
        "# You can also write temporary files to /kaggle/temp/, but they won't be saved outside of the current session"
      ],
      "execution_count": null,
      "outputs": []
    },
    {
      "cell_type": "code",
      "metadata": {
        "id": "2Y46mMfdn7hO"
      },
      "source": [
        "from sklearn.model_selection import train_test_split\n",
        "from sklearn.preprocessing import StandardScaler\n",
        "from sklearn.neighbors import KNeighborsClassifier\n",
        "from sklearn.metrics import confusion_matrix, accuracy_score\n",
        "from sklearn.linear_model import LogisticRegression\n"
      ],
      "execution_count": null,
      "outputs": []
    },
    {
      "cell_type": "code",
      "metadata": {
        "id": "fagLbszCoBkN"
      },
      "source": [
        "#Loading CSV\n",
        "df = pd.read_csv('../input/heart-failure-prediction/heart.csv')\n",
        "\n",
        "#Seperating dependent and independent fields\n",
        "X=df.drop('HeartDisease',axis=1)\n",
        "y=df['HeartDisease']"
      ],
      "execution_count": null,
      "outputs": []
    },
    {
      "cell_type": "code",
      "metadata": {
        "id": "TAaF25N8oBnE"
      },
      "source": [
        "#Filter out numerical columns for scaling\n",
        "num_cols = [col for col in X.columns if X[col].dtype != \"object\"]\n",
        "\n",
        "#Test-Train Split\n",
        "X_train, X_test, y_train, y_test = train_test_split(X,y,test_size=0.2, random_state=42)"
      ],
      "execution_count": null,
      "outputs": []
    },
    {
      "cell_type": "code",
      "metadata": {
        "id": "Zvl_QVb5oBp8"
      },
      "source": [
        "#Scaling Numeric Columns\n",
        "scaler=StandardScaler()\n",
        "scaler.fit(X_train[num_cols])\n",
        "scaler.fit(X_test[num_cols])\n",
        "X_train[num_cols] = scaler.transform(X_train[num_cols])\n",
        "X_test[num_cols] = scaler.transform(X_test[num_cols])\n",
        "\n",
        "#Label Encoding and OHE categorical fields\n",
        "X_train = pd.get_dummies(data = X_train, drop_first=True)\n",
        "X_test = pd.get_dummies(data = X_test, drop_first=True)"
      ],
      "execution_count": null,
      "outputs": []
    },
    {
      "cell_type": "code",
      "metadata": {
        "id": "E0hoYN9_oBtH"
      },
      "source": [
        "#Using KNN model\n",
        "knn=KNeighborsClassifier(n_neighbors=15)\n",
        "knn.fit(X_train,y_train)\n",
        "y_pred_knn = knn.predict(X_test)"
      ],
      "execution_count": null,
      "outputs": []
    },
    {
      "cell_type": "code",
      "metadata": {
        "id": "jcA5sgZZoBwN"
      },
      "source": [
        "print(\"KNN\")\n",
        "print(\"Confusion Matrix: \",confusion_matrix(y_pred_knn,y_test))\n",
        "print(\"Accuracy:\",accuracy_score(y_pred_knn, y_test)*100)"
      ],
      "execution_count": null,
      "outputs": []
    },
    {
      "cell_type": "code",
      "metadata": {
        "id": "VVoDeWdOoBzC"
      },
      "source": [
        "#Using Logistic Regression model\n",
        "reg= LogisticRegression()\n",
        "reg.fit(X_train,y_train)\n",
        "y_pred_reg = reg.predict(X_test)"
      ],
      "execution_count": null,
      "outputs": []
    },
    {
      "cell_type": "code",
      "metadata": {
        "id": "8tJYgGpxoYLE"
      },
      "source": [
        "print(\"Logistic Regression\")\n",
        "print(\"Confusion Matrix: \",confusion_matrix(y_pred_reg,y_test))\n",
        "print(\"Accuracy:\",accuracy_score(y_pred_reg, y_test)*100)"
      ],
      "execution_count": null,
      "outputs": []
    }
  ]
}